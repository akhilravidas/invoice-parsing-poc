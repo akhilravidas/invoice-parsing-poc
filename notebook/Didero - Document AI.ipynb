{
 "cells": [
  {
   "cell_type": "markdown",
   "id": "79be0a38-28b7-459e-b8a6-b0b5207f9fc1",
   "metadata": {
    "jp-MarkdownHeadingCollapsed": true
   },
   "source": [
    "## Setup\n",
    "\n",
    "This notebook uses Google Document AI to parse data from invoices. Running this requires a service account. \n",
    "\n",
    "Instructions at: https://cloud.google.com/document-ai/docs/setup"
   ]
  },
  {
   "cell_type": "code",
   "execution_count": 37,
   "id": "7a7b53e5-182a-45a2-9715-436af6009ef8",
   "metadata": {},
   "outputs": [],
   "source": [
    "from dotenv import load_dotenv\n",
    "import os\n",
    "import pandas as pd\n",
    "\n",
    "load_dotenv()\n",
    "\n",
    "assert \"GOOGLE_APPLICATION_CREDENTIALS\" in os.environ, \"No gcloud service account file\"\n",
    "\n",
    "DEBUG = 0"
   ]
  },
  {
   "cell_type": "markdown",
   "id": "ec096815-ef10-415b-b4dc-eba4c6e05b52",
   "metadata": {},
   "source": [
    "## Google Document AI based Parser\n",
    "\n",
    "For this quick implementation, I'm using Google's prebuilt invoice parser. Since the sample data involves purchase orders as well as invoices, a cleaner, use-case specific approach is to use a custom document parser. \n",
    "\n",
    "See demo at https://cloud.google.com/document-ai/docs/drag-and-drop\n",
    "\n",
    "TODO: Add a video\n",
    "\n",
    "The performance is very good even with 0 training examples. "
   ]
  },
  {
   "cell_type": "code",
   "execution_count": 28,
   "id": "ccf5eb3a-3299-4508-b6de-c40ee6f35d60",
   "metadata": {},
   "outputs": [],
   "source": [
    "# NOTES: \n",
    "# Choosing quick hack using google's prebuilt invoice parser. \n",
    "# You can get much better results with a custom document parser even with no training data\n",
    "# Try demo\n",
    "from typing import Optional\n",
    "\n",
    "from google.api_core.client_options import ClientOptions\n",
    "from google.cloud import documentai  # type: ignore\n",
    "\n",
    "project_id = \"q-cloud-f0042\"\n",
    "location = \"us\"  \n",
    "processor_id = \"92be89420caf567f\"\n",
    "mime_type = \"application/pdf\"\n",
    "\n",
    "opts = ClientOptions(api_endpoint=f\"{location}-documentai.googleapis.com\")\n",
    "client = documentai.DocumentProcessorServiceClient(client_options=opts)\n",
    "name = client.processor_path(project_id, location, processor_id)\n",
    "\n",
    "KEYS = (\"invoice_total\", \"receiver_name\", \"supplier_name\", \"total_amount\", \"invoice_date\")\n",
    "\n",
    "def parse_invoice_or_po(\n",
    "    file_path: str,\n",
    ") -> None:\n",
    "    with open(file_path, \"rb\") as input_pdf:\n",
    "        pdf_content = input_pdf.read()\n",
    "    raw_document = documentai.RawDocument(content=pdf_content, mime_type=mime_type)\n",
    "    request = documentai.ProcessRequest(\n",
    "        name=name,\n",
    "        raw_document=raw_document,\n",
    "        field_mask=\"entities,pages.pageNumber\" \n",
    "    )\n",
    "\n",
    "    result = client.process_document(request=request)\n",
    "    if DEBUG:\n",
    "        print([(r.type_, r.mention_text) for r in result.document.entities])\n",
    "    return {str(r.type_): str(r.mention_text) for r in result.document.entities if r.type_ in KEYS}"
   ]
  },
  {
   "cell_type": "markdown",
   "id": "d9729187-fa52-4e8f-8475-1fc41949f395",
   "metadata": {},
   "source": [
    "## Process All Samples"
   ]
  },
  {
   "cell_type": "code",
   "execution_count": 31,
   "id": "115a4ead-4c6f-42ae-8aed-659f2b195374",
   "metadata": {},
   "outputs": [
    {
     "name": "stdout",
     "output_type": "stream",
     "text": [
      "Processing  PO-VIAEN20220830001（INVOICE）.pdf\n",
      "Processing  PO-WDLH20220812001.pdf\n",
      "Processing  PO-SMKD20220511001.pdf\n",
      "Processing  PO-WDLH20220805001.pdf\n",
      "Processing  invoiceBJ202208120006.pdf\n",
      "Processing  PO-VIAEN20220830001.pdf\n",
      "Processing  PO-WDLH20220722001.rev.1.pdf\n",
      "Processing  PO-VIAEN20220914001.pdf\n",
      "Processing  PO-SMKD20220830001（INVOICE）.pdf\n",
      "Processing  PO-WDLH20220722002.pdf\n",
      "Processing  PO-SMKD20220830001.pdf\n",
      "Processing  invoiceBJ20220830008.pdf\n",
      "Processing  PO-VIAEN20220824001.pdf\n"
     ]
    }
   ],
   "source": [
    "input_dir = \"./inputs/Sample PDFs/\"\n",
    "\n",
    "data = []\n",
    "for fname in os.listdir(input_dir): \n",
    "    if not fname.endswith(\".pdf\"): continue\n",
    "    pdf_path = os.path.join(input_dir, fname)\n",
    "    print(\"Processing \", fname)\n",
    "    parsed_data = parse_invoice_or_po(pdf_path)\n",
    "    data.append({'Filename': fname, **parsed_data})"
   ]
  },
  {
   "cell_type": "code",
   "execution_count": 35,
   "id": "875188b0-dc0d-40bb-883a-098b5262b580",
   "metadata": {},
   "outputs": [
    {
     "data": {
      "text/html": [
       "<div>\n",
       "<style scoped>\n",
       "    .dataframe tbody tr th:only-of-type {\n",
       "        vertical-align: middle;\n",
       "    }\n",
       "\n",
       "    .dataframe tbody tr th {\n",
       "        vertical-align: top;\n",
       "    }\n",
       "\n",
       "    .dataframe thead th {\n",
       "        text-align: right;\n",
       "    }\n",
       "</style>\n",
       "<table border=\"1\" class=\"dataframe\">\n",
       "  <thead>\n",
       "    <tr style=\"text-align: right;\">\n",
       "      <th></th>\n",
       "      <th>Filename</th>\n",
       "      <th>invoice_date</th>\n",
       "      <th>receiver_name</th>\n",
       "      <th>supplier_name</th>\n",
       "      <th>total_amount</th>\n",
       "    </tr>\n",
       "  </thead>\n",
       "  <tbody>\n",
       "    <tr>\n",
       "      <th>0</th>\n",
       "      <td>PO-VIAEN20220830001（INVOICE）.pdf</td>\n",
       "      <td>2022-08-30</td>\n",
       "      <td>VIAEON, INC</td>\n",
       "      <td>CHINA NATIONAL PUBLICATIONS IMPORT &amp; EXPORT GU...</td>\n",
       "      <td>16,058.28</td>\n",
       "    </tr>\n",
       "    <tr>\n",
       "      <th>1</th>\n",
       "      <td>PO-WDLH20220812001.pdf</td>\n",
       "      <td>12-Aug-22</td>\n",
       "      <td>VIAEON, INC</td>\n",
       "      <td>BJ Global Supply Chain Co., Ltd</td>\n",
       "      <td>17,148.56</td>\n",
       "    </tr>\n",
       "    <tr>\n",
       "      <th>2</th>\n",
       "      <td>PO-SMKD20220511001.pdf</td>\n",
       "      <td>2022/5/11</td>\n",
       "      <td>SMARKIDS, INC</td>\n",
       "      <td>SMARKIDS, INC</td>\n",
       "      <td>17,158.61</td>\n",
       "    </tr>\n",
       "    <tr>\n",
       "      <th>3</th>\n",
       "      <td>PO-WDLH20220805001.pdf</td>\n",
       "      <td>05-Aug-22</td>\n",
       "      <td>Guangzhou tuwai leather goods Co., Ltd</td>\n",
       "      <td>WDLHQC, INC</td>\n",
       "      <td>29,940.74</td>\n",
       "    </tr>\n",
       "    <tr>\n",
       "      <th>4</th>\n",
       "      <td>invoiceBJ202208120006.pdf</td>\n",
       "      <td>2022/8/12</td>\n",
       "      <td>WDLHQC, INC</td>\n",
       "      <td>BJ Global Supply Chain Co., Ltd</td>\n",
       "      <td>17,148.56</td>\n",
       "    </tr>\n",
       "    <tr>\n",
       "      <th>5</th>\n",
       "      <td>PO-VIAEN20220830001.pdf</td>\n",
       "      <td>30-Aug-22</td>\n",
       "      <td>CHINA NATIONAL PUBLICATIONS IMPORT \\nEXPORT GU...</td>\n",
       "      <td>VIAEON, INC</td>\n",
       "      <td>16,058.28</td>\n",
       "    </tr>\n",
       "    <tr>\n",
       "      <th>6</th>\n",
       "      <td>PO-WDLH20220722001.rev.1.pdf</td>\n",
       "      <td>22-Jul-22</td>\n",
       "      <td>WDLHQC, INC</td>\n",
       "      <td>WDLHQC, INC</td>\n",
       "      <td>29,228.39</td>\n",
       "    </tr>\n",
       "    <tr>\n",
       "      <th>7</th>\n",
       "      <td>PO-VIAEN20220914001.pdf</td>\n",
       "      <td>14-Sep-22</td>\n",
       "      <td>CHINA NATIONAL PUBLICATIONS IMPORT \\nEXPORT GU...</td>\n",
       "      <td>VIAEON, INC</td>\n",
       "      <td>7,801.08</td>\n",
       "    </tr>\n",
       "    <tr>\n",
       "      <th>8</th>\n",
       "      <td>PO-SMKD20220830001（INVOICE）.pdf</td>\n",
       "      <td>2022-09-01</td>\n",
       "      <td>SMARKIDS, INC</td>\n",
       "      <td>CHINA NATIONAL PUBLICATIONS IMPORT &amp; EXPORT GU...</td>\n",
       "      <td>7,972.94</td>\n",
       "    </tr>\n",
       "    <tr>\n",
       "      <th>9</th>\n",
       "      <td>PO-WDLH20220722002.pdf</td>\n",
       "      <td>22-Jul-22</td>\n",
       "      <td>BJ Global Supply Chain Co., Ltd</td>\n",
       "      <td>WDLHQC, INC</td>\n",
       "      <td>13,866.13</td>\n",
       "    </tr>\n",
       "    <tr>\n",
       "      <th>10</th>\n",
       "      <td>PO-SMKD20220830001.pdf</td>\n",
       "      <td>2022/8/30</td>\n",
       "      <td>CHINA NATIONAL PUBLICATIONS IMPORT \\nEXPORT GU...</td>\n",
       "      <td>SMARKIDS, INC</td>\n",
       "      <td>7,972.94</td>\n",
       "    </tr>\n",
       "    <tr>\n",
       "      <th>11</th>\n",
       "      <td>invoiceBJ20220830008.pdf</td>\n",
       "      <td>2022/8/30</td>\n",
       "      <td>WDLHQC, INC.</td>\n",
       "      <td>BJ Global Supply Chain Co., Ltd</td>\n",
       "      <td>24,391.07</td>\n",
       "    </tr>\n",
       "    <tr>\n",
       "      <th>12</th>\n",
       "      <td>PO-VIAEN20220824001.pdf</td>\n",
       "      <td>24-Aug-22</td>\n",
       "      <td>VIAEON, INC</td>\n",
       "      <td>VIAEON, INC</td>\n",
       "      <td>16,283.84</td>\n",
       "    </tr>\n",
       "  </tbody>\n",
       "</table>\n",
       "</div>"
      ],
      "text/plain": [
       "                            Filename invoice_date  \\\n",
       "0   PO-VIAEN20220830001（INVOICE）.pdf   2022-08-30   \n",
       "1             PO-WDLH20220812001.pdf    12-Aug-22   \n",
       "2             PO-SMKD20220511001.pdf    2022/5/11   \n",
       "3             PO-WDLH20220805001.pdf    05-Aug-22   \n",
       "4          invoiceBJ202208120006.pdf    2022/8/12   \n",
       "5            PO-VIAEN20220830001.pdf    30-Aug-22   \n",
       "6       PO-WDLH20220722001.rev.1.pdf    22-Jul-22   \n",
       "7            PO-VIAEN20220914001.pdf    14-Sep-22   \n",
       "8    PO-SMKD20220830001（INVOICE）.pdf   2022-09-01   \n",
       "9             PO-WDLH20220722002.pdf    22-Jul-22   \n",
       "10            PO-SMKD20220830001.pdf    2022/8/30   \n",
       "11          invoiceBJ20220830008.pdf    2022/8/30   \n",
       "12           PO-VIAEN20220824001.pdf    24-Aug-22   \n",
       "\n",
       "                                        receiver_name  \\\n",
       "0                                         VIAEON, INC   \n",
       "1                                         VIAEON, INC   \n",
       "2                                       SMARKIDS, INC   \n",
       "3              Guangzhou tuwai leather goods Co., Ltd   \n",
       "4                                         WDLHQC, INC   \n",
       "5   CHINA NATIONAL PUBLICATIONS IMPORT \\nEXPORT GU...   \n",
       "6                                         WDLHQC, INC   \n",
       "7   CHINA NATIONAL PUBLICATIONS IMPORT \\nEXPORT GU...   \n",
       "8                                       SMARKIDS, INC   \n",
       "9                     BJ Global Supply Chain Co., Ltd   \n",
       "10  CHINA NATIONAL PUBLICATIONS IMPORT \\nEXPORT GU...   \n",
       "11                                       WDLHQC, INC.   \n",
       "12                                        VIAEON, INC   \n",
       "\n",
       "                                        supplier_name total_amount  \n",
       "0   CHINA NATIONAL PUBLICATIONS IMPORT & EXPORT GU...    16,058.28  \n",
       "1                     BJ Global Supply Chain Co., Ltd    17,148.56  \n",
       "2                                       SMARKIDS, INC    17,158.61  \n",
       "3                                         WDLHQC, INC    29,940.74  \n",
       "4                     BJ Global Supply Chain Co., Ltd    17,148.56  \n",
       "5                                         VIAEON, INC    16,058.28  \n",
       "6                                         WDLHQC, INC    29,228.39  \n",
       "7                                         VIAEON, INC     7,801.08  \n",
       "8   CHINA NATIONAL PUBLICATIONS IMPORT & EXPORT GU...     7,972.94  \n",
       "9                                         WDLHQC, INC    13,866.13  \n",
       "10                                      SMARKIDS, INC     7,972.94  \n",
       "11                    BJ Global Supply Chain Co., Ltd    24,391.07  \n",
       "12                                        VIAEON, INC    16,283.84  "
      ]
     },
     "execution_count": 35,
     "metadata": {},
     "output_type": "execute_result"
    }
   ],
   "source": [
    "pd.DataFrame(data, columns=(\"Filename\", \"invoice_date\", \"receiver_name\", \"supplier_name\", \"total_amount\"))"
   ]
  },
  {
   "cell_type": "markdown",
   "id": "d0832521-b25e-45e0-a77d-ea8438505a83",
   "metadata": {
    "jp-MarkdownHeadingCollapsed": true
   },
   "source": [
    "## Testing Cell"
   ]
  },
  {
   "cell_type": "code",
   "execution_count": 29,
   "id": "5cf3bcc2-2332-4c6d-9c1d-3742670c119c",
   "metadata": {},
   "outputs": [
    {
     "name": "stdout",
     "output_type": "stream",
     "text": [
      "[('invoice_date', '05-Aug-22'), ('purchase_order', 'WDLH20220805001'), ('invoice_type', ''), ('currency', 'US DOLLARS'), ('receiver_name', 'Guangzhou tuwai leather goods Co., Ltd'), ('total_amount', '29,940.74'), ('receiver_address', 'No. 7 Yaoji Alley, Qianjin Village, Shiling Town\\nHuadu District, Guangdong Province\\nChina'), ('supplier_name', 'WDLHQC, INC'), ('supplier_address', '9\\nSheridan\\n, \\nWY \\n82801\\nUnited \\nStates'), ('line_item', 'TOILETRY-BAG-301-FBA TOILETRY BAG BLACK&WHITE 3500 36.00 126,000.00'), ('line_item', 'TB-301-BLACK-FBA TOILETRY BAG 1000 36.00 36,000.00'), ('line_item', 'TB-301-PINK-FBA TOILETRY BAG 500 36.00 18,000.00'), ('line_item', 'TB-301-BROWN-FBA TOILETRY BAG 600 36.00 21,600.00'), ('line_item', '5600 201,600.00')]\n"
     ]
    },
    {
     "data": {
      "text/plain": [
       "{'invoice_date': '05-Aug-22',\n",
       " 'receiver_name': 'Guangzhou tuwai leather goods Co., Ltd',\n",
       " 'total_amount': '29,940.74',\n",
       " 'supplier_name': 'WDLHQC, INC'}"
      ]
     },
     "execution_count": 29,
     "metadata": {},
     "output_type": "execute_result"
    }
   ],
   "source": [
    "DEBUG = 1\n",
    "test_path = \"./inputs/Sample PDFs/PO-WDLH20220805001.pdf\"\n",
    "parse_invoice_or_po(test_path)"
   ]
  },
  {
   "cell_type": "code",
   "execution_count": null,
   "id": "7ce5dcfd-f6fa-484e-9b50-1fe318efad16",
   "metadata": {},
   "outputs": [],
   "source": []
  }
 ],
 "metadata": {
  "kernelspec": {
   "display_name": "Python 3 (ipykernel)",
   "language": "python",
   "name": "python3"
  },
  "language_info": {
   "codemirror_mode": {
    "name": "ipython",
    "version": 3
   },
   "file_extension": ".py",
   "mimetype": "text/x-python",
   "name": "python",
   "nbconvert_exporter": "python",
   "pygments_lexer": "ipython3",
   "version": "3.11.6"
  }
 },
 "nbformat": 4,
 "nbformat_minor": 5
}
